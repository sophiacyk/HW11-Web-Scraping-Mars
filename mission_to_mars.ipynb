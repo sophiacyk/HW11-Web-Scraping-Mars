{
 "cells": [
  {
   "cell_type": "code",
   "execution_count": 1,
   "metadata": {},
   "outputs": [],
   "source": [
    "# Dependencies\n",
    "from splinter import Browser\n",
    "from bs4 import BeautifulSoup\n",
    "import requests\n",
    "import pandas as pd\n",
    "from selenium.webdriver.common.by import By\n",
    "from selenium.webdriver.support.ui import WebDriverWait \n",
    "from selenium.webdriver.support import expected_conditions\n"
   ]
  },
  {
   "cell_type": "code",
   "execution_count": 2,
   "metadata": {},
   "outputs": [],
   "source": [
    "def soup_connect(url):\n",
    "    response = requests.get(url)\n",
    "    soup = BeautifulSoup(response.text, 'html.parser')\n",
    "    return soup"
   ]
  },
  {
   "cell_type": "code",
   "execution_count": null,
   "metadata": {},
   "outputs": [],
   "source": []
  },
  {
   "cell_type": "markdown",
   "metadata": {},
   "source": [
    "NASA Mars News"
   ]
  },
  {
   "cell_type": "code",
   "execution_count": 3,
   "metadata": {},
   "outputs": [],
   "source": [
    "def mars_news():\n",
    "    url_nasa = 'https://mars.nasa.gov/news/'\n",
    "    soup1 = soup_connect(url_nasa)\n",
    "    titles = soup1.find_all('div', class_=\"content_title\")\n",
    "    latest_title = titles[0].a.text.strip('\\n')\n",
    "    \n",
    "    news = soup1.find_all('div', class_=\"rollover_description_inner\") \n",
    "    latest_news = news[0].text.strip('\\n')\n",
    "    \n",
    "    #In case more news needed in the future\n",
    "    #clean_titles = [title.a.text.strip('\\n') for title in titles]\n",
    "    #clean_news = [content.text.strip('\\n') for content in news]\n",
    "    \n",
    "    mars_news = {\n",
    "        \"title\": latest_title,\n",
    "        \"news\": latest_news\n",
    "    }\n",
    "    \n",
    "    return mars_news\n",
    "        "
   ]
  },
  {
   "cell_type": "code",
   "execution_count": 4,
   "metadata": {},
   "outputs": [
    {
     "data": {
      "text/plain": [
       "{'news': 'As of Tuesday morning, June 19, the Martian dust storm had grown in size and was officially a \"planet-encircling\" (or \"global\") dust event. ',\n",
       " 'title': 'Opportunity Hunkers Down During Dust Storm'}"
      ]
     },
     "execution_count": 4,
     "metadata": {},
     "output_type": "execute_result"
    }
   ],
   "source": [
    "test1 = mars_news()\n",
    "test1"
   ]
  },
  {
   "cell_type": "markdown",
   "metadata": {},
   "source": [
    "JPL Mars Space Images - Featured Image"
   ]
  },
  {
   "cell_type": "code",
   "execution_count": 24,
   "metadata": {},
   "outputs": [],
   "source": [
    "def JPL_image():\n",
    "    executable_path = {'executable_path': 'chromedriver.exe'}\n",
    "    browser = Browser('chrome', **executable_path, headless=False)\n",
    "    url_jpl = 'https://www.jpl.nasa.gov/spaceimages/?search=&category=Mars'\n",
    "    \n",
    "    browser.visit(url_jpl)\n",
    "    #for button in buttons:\n",
    "    browser.find_link_by_partial_text('FULL IMAGE').click()\n",
    "    browser.is_element_not_present_by_id('images', wait_time=2)\n",
    "    browser.find_link_by_partial_text('more info').click()\n",
    "    \n",
    "    link = browser.find_link_by_partial_href('largesize')\n",
    "    \n",
    "    image_url = link.html.split(\"=\")\n",
    "    image_url = link.html.split(\"=\")[-1].lstrip('\"')\n",
    "    image_url = image_url.rstrip('\">')\n",
    " \n",
    "    featured_image_url = 'https://www.jpl.nasa.gov' + image_url\n",
    "    \n",
    "    return featured_image_url"
   ]
  },
  {
   "cell_type": "code",
   "execution_count": 25,
   "metadata": {},
   "outputs": [
    {
     "data": {
      "text/plain": [
       "'https://www.jpl.nasa.gov/spaceimages/images/largesize/PIA19168_hires.jpg'"
      ]
     },
     "execution_count": 25,
     "metadata": {},
     "output_type": "execute_result"
    }
   ],
   "source": [
    "test2 = JPL_image()\n",
    "test2"
   ]
  },
  {
   "cell_type": "code",
   "execution_count": 19,
   "metadata": {},
   "outputs": [],
   "source": [
    "# This part is for future debug\n",
    "# executable_path = {'executable_path': 'chromedriver.exe'}\n",
    "# browser = Browser('chrome', **executable_path, headless=False)\n",
    "# url_jpl = 'https://www.jpl.nasa.gov/spaceimages/?search=&category=Mars'\n",
    "# browser.visit(url_jpl)\n",
    "# #for button in buttons:\n",
    "# browser.find_link_by_partial_text('FULL IMAGE').click()\n",
    "# browser.is_element_not_present_by_id('images', wait_time=2)\n",
    "# browser.find_link_by_partial_text('more info').click()\n",
    "# browser.url\n",
    "# link = browser.find_link_by_partial_href('largesize')\n",
    "# link.html\n",
    "# image_url = link.html.split(\"=\")\n",
    "# image_url = link.html.split(\"=\")[-1].lstrip('\"')\n",
    "# image_url = image_url.rstrip('\">')\n",
    "# image_url\n",
    "# featured_image_url = 'https://www.jpl.nasa.gov' + image_url\n",
    "# featured_image_url"
   ]
  },
  {
   "cell_type": "markdown",
   "metadata": {},
   "source": [
    "Mars Weather"
   ]
  },
  {
   "cell_type": "code",
   "execution_count": 26,
   "metadata": {},
   "outputs": [],
   "source": [
    "def mars_weather():\n",
    "    url_tweet = 'https://twitter.com/MarsWxReport?lang=en'\n",
    "    MarsWX = 'Mars Weather'\n",
    "    soup4 = soup_connect(url_tweet)\n",
    "    \n",
    "    tweets = soup4.find_all('div', class_='content')\n",
    "    tweet_weather = []\n",
    "    i = 0\n",
    "\n",
    "    while (len(tweet_weather)<1):\n",
    "        tweet_id = tweets[i].find('strong').text\n",
    "        tweet_wx = tweets[i].find('p').text\n",
    "        if tweet_id == MarsWX:\n",
    "            tweet_weather.append(tweet_wx)    \n",
    "        i+=1\n",
    "    mars_weather = tweet_weather[0]\n",
    "    \n",
    "    return mars_weather"
   ]
  },
  {
   "cell_type": "code",
   "execution_count": 28,
   "metadata": {},
   "outputs": [
    {
     "data": {
      "text/plain": [
       "'Sol 2108 (2018-07-12), Sunny, high -24C/-11F, low -65C/-84F, pressure at 8.06 hPa, daylight 05:19-17:27'"
      ]
     },
     "execution_count": 28,
     "metadata": {},
     "output_type": "execute_result"
    }
   ],
   "source": [
    "test3 = mars_weather()\n",
    "test3"
   ]
  },
  {
   "cell_type": "markdown",
   "metadata": {},
   "source": [
    "Mars Facts"
   ]
  },
  {
   "cell_type": "code",
   "execution_count": 29,
   "metadata": {},
   "outputs": [],
   "source": [
    "def mars_fact():\n",
    "    url_fact = 'https://space-facts.com/mars/'\n",
    "    tables = pd.read_html(url_fact)\n",
    "    tables[0]\n",
    "    tables[0]['index'] =  [tables[0][0][i].strip(\":\") for i in range(len(tables[0][0]))]\n",
    "    clean_table = tables[0][['index',1]]\n",
    "    clean_table = clean_table.set_index('index')\n",
    "    clean_table = clean_table.rename(columns={1:'value'})\n",
    "    clean_table\n",
    "    table_html = clean_table.to_html()\n",
    "    \n",
    "    return table_html"
   ]
  },
  {
   "cell_type": "code",
   "execution_count": 30,
   "metadata": {},
   "outputs": [
    {
     "data": {
      "text/plain": [
       "'<table border=\"1\" class=\"dataframe\">\\n  <thead>\\n    <tr style=\"text-align: right;\">\\n      <th></th>\\n      <th>value</th>\\n    </tr>\\n    <tr>\\n      <th>index</th>\\n      <th></th>\\n    </tr>\\n  </thead>\\n  <tbody>\\n    <tr>\\n      <th>Equatorial Diameter</th>\\n      <td>6,792 km</td>\\n    </tr>\\n    <tr>\\n      <th>Polar Diameter</th>\\n      <td>6,752 km</td>\\n    </tr>\\n    <tr>\\n      <th>Mass</th>\\n      <td>6.42 x 10^23 kg (10.7% Earth)</td>\\n    </tr>\\n    <tr>\\n      <th>Moons</th>\\n      <td>2 (Phobos &amp; Deimos)</td>\\n    </tr>\\n    <tr>\\n      <th>Orbit Distance</th>\\n      <td>227,943,824 km (1.52 AU)</td>\\n    </tr>\\n    <tr>\\n      <th>Orbit Period</th>\\n      <td>687 days (1.9 years)</td>\\n    </tr>\\n    <tr>\\n      <th>Surface Temperature</th>\\n      <td>-153 to 20 °C</td>\\n    </tr>\\n    <tr>\\n      <th>First Record</th>\\n      <td>2nd millennium BC</td>\\n    </tr>\\n    <tr>\\n      <th>Recorded By</th>\\n      <td>Egyptian astronomers</td>\\n    </tr>\\n  </tbody>\\n</table>'"
      ]
     },
     "execution_count": 30,
     "metadata": {},
     "output_type": "execute_result"
    }
   ],
   "source": [
    "test4 = mars_fact()\n",
    "test4"
   ]
  },
  {
   "cell_type": "markdown",
   "metadata": {},
   "source": [
    "Mars Hemispheres"
   ]
  },
  {
   "cell_type": "code",
   "execution_count": 37,
   "metadata": {},
   "outputs": [],
   "source": [
    "def mars_hemi():\n",
    "    url_usgs = 'https://astrogeology.usgs.gov/search/results?q=hemisphere+enhanced&k1=target&v1=Mars'\n",
    "    soup2 = soup_connect(url_usgs)\n",
    "    results = soup2.find_all('div', class_='item')\n",
    "    results[0].find('h3').text\n",
    "    \n",
    "    img_title_list = []\n",
    "    img_url_list = []\n",
    "\n",
    "    for result in results: \n",
    "        img_title = result.find('h3').text.strip(' Enhanced')\n",
    "        img_title_list.append(img_title)\n",
    "        tt = result.find('a')['href']\n",
    "        url_usgs_img = 'https://astrogeology.usgs.gov' + tt\n",
    "        browser.visit(url_usgs_img)\n",
    "        soup3 = soup_connect(url_usgs_img)\n",
    "        img_url = soup3.find_all('div',class_='downloads')[0].find('a')['href']\n",
    "        img_url_list.append(img_url)\n",
    "        \n",
    "        hemisphere_image_urls = [\n",
    "            {\"title\": img_title_list, \"img_url\": img_url_list}\n",
    "        ]\n",
    "    \n",
    "    return hemisphere_image_urls"
   ]
  },
  {
   "cell_type": "code",
   "execution_count": 38,
   "metadata": {},
   "outputs": [
    {
     "data": {
      "text/plain": [
       "[{'img_url': ['http://astropedia.astrogeology.usgs.gov/download/Mars/Viking/cerberus_enhanced.tif/full.jpg',\n",
       "   'http://astropedia.astrogeology.usgs.gov/download/Mars/Viking/schiaparelli_enhanced.tif/full.jpg',\n",
       "   'http://astropedia.astrogeology.usgs.gov/download/Mars/Viking/syrtis_major_enhanced.tif/full.jpg',\n",
       "   'http://astropedia.astrogeology.usgs.gov/download/Mars/Viking/valles_marineris_enhanced.tif/full.jpg'],\n",
       "  'title': ['Cerberus Hemispher',\n",
       "   'Schiaparelli Hemispher',\n",
       "   'Syrtis Major Hemispher',\n",
       "   'Valles Marineris Hemispher']}]"
      ]
     },
     "execution_count": 38,
     "metadata": {},
     "output_type": "execute_result"
    }
   ],
   "source": [
    "test5 = mars_hemi()\n",
    "test5"
   ]
  },
  {
   "cell_type": "code",
   "execution_count": 40,
   "metadata": {},
   "outputs": [
    {
     "name": "stderr",
     "output_type": "stream",
     "text": [
      "[NbConvertApp] Converting notebook mission_to_mars.ipynb to script\n",
      "[NbConvertApp] Writing 4802 bytes to mission_to_mars.py\n"
     ]
    }
   ],
   "source": [
    "!jupyter nbconvert --to script mission_to_mars.ipynb"
   ]
  }
 ],
 "metadata": {
  "kernelspec": {
   "display_name": "Python (PythonData)",
   "language": "python",
   "name": "pythondata"
  },
  "language_info": {
   "codemirror_mode": {
    "name": "ipython",
    "version": 3
   },
   "file_extension": ".py",
   "mimetype": "text/x-python",
   "name": "python",
   "nbconvert_exporter": "python",
   "pygments_lexer": "ipython3",
   "version": "3.6.4"
  }
 },
 "nbformat": 4,
 "nbformat_minor": 2
}
